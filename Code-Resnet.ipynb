{
  "cells": [
    {
      "cell_type": "code",
      "execution_count": 13,
      "id": "til1tLUUydky",
      "metadata": {
        "id": "til1tLUUydky"
      },
      "outputs": [],
      "source": [
        "MODELPATH='' # path to save the model\n",
        "MODELNAME=''\n",
        "TrainPATH='/Train.csv'\n",
        "TESTPATH='Test.csv'\n",
        "VIDEOPATH='' # add path to the video containing folder\n",
        "CNVSIZE=3900"
      ]
    },
    {
      "cell_type": "code",
      "execution_count": 14,
      "id": "d27fa043",
      "metadata": {
        "id": "d27fa043"
      },
      "outputs": [],
      "source": [
        "\n",
        "import os\n",
        "import torch\n",
        "import pandas as pd\n",
        "#from skimage import io, transform\n",
        "import numpy as np\n",
        "import matplotlib.pyplot as plt\n",
        "from torch.utils.data import Dataset, DataLoader\n",
        "from torchvision import transforms, utils,models\n",
        "from PIL import Image\n",
        "import PIL\n",
        "# Ignore warnings\n",
        "import warnings\n",
        "warnings.filterwarnings(\"ignore\")\n",
        "import sys\n",
        "import torch.nn as nn\n",
        "import torch.optim as optim\n",
        "from torch.optim import lr_scheduler\n",
        "import cv2\n",
        "\n",
        "plt.ion()   # interactive mode\n",
        "np.set_printoptions(threshold=sys.maxsize)\n",
        "\n",
        "data_transforms = {\n",
        "    'train': transforms.Compose([\n",
        "        transforms.Resize(224),\n",
        "        #transforms.RandomHorizontalFlip(),\n",
        "        #transforms.ToTensor(),\n",
        "        #transforms.Normalize([0.485, 0.456, 0.406], [0.229, 0.224, 0.225])\n",
        "    ]),\n",
        "    'val': transforms.Compose([\n",
        "        transforms.Resize(256),\n",
        "        transforms.CenterCrop(224),\n",
        "        #transforms.ToTensor(),\n",
        "        transforms.Normalize([0.485, 0.456, 0.406], [0.229, 0.224, 0.225])\n",
        "    ]),\n",
        "}\n",
        "\n",
        "regress_data_transforms = {\n",
        "    'train': transforms.Compose([\n",
        "        #transforms.ToPILImage(),                        \n",
        "        transforms.Resize(256),\n",
        "        transforms.CenterCrop(224),\n",
        "        # transforms.RandomResizedCrop(224),\n",
        "        # transforms.RandomHorizontalFlip(),\n",
        "        transforms.ToTensor(),\n",
        "        transforms.Normalize([0.485, 0.456, 0.406], [0.229, 0.224, 0.225])\n",
        "    ]),\n",
        "    'val': transforms.Compose([\n",
        "        transforms.Resize(256),\n",
        "        transforms.CenterCrop(224),\n",
        "        #transforms.ToTensor(),\n",
        "        transforms.Normalize([0.485, 0.456, 0.406], [0.229, 0.224, 0.225])\n",
        "    ]),\n",
        "}\n",
        "\n"
      ]
    },
    {
      "cell_type": "code",
      "execution_count": 20,
      "id": "34dfabbd",
      "metadata": {
        "id": "34dfabbd"
      },
      "outputs": [],
      "source": [
        "class StackedFramesDataset(Dataset):\n",
        "    def __init__(self, csv_file, root_dir, transform=None):\n",
        "        \"\"\"\n",
        "        Args:\n",
        "            csv_file (string): Path to the csv file listing all the folders in the datasets\n",
        "            root_dir (string): Directory with all the csvs of images.        //ResnetData//images\n",
        "            transform (callable, optional): Optional transform to be applied\n",
        "                on a sample.\n",
        "        \"\"\"\n",
        "        self.markupcsv = pd.read_csv(csv_file)\n",
        "        self.markup= self.markupcsv[\"VideoFile\"].values\n",
        "        self.labels=self.markupcsv[\"HBLevel\"].values\n",
        "       \n",
        "        self.root_dir = root_dir\n",
        "        self.transform = transform\n",
        "       \n",
        "    def __len__(self):\n",
        "\n",
        "       return len(self.markup)\n",
        "    def __getitem__(self, idx):\n",
        "            \n",
        "        datapoint=None\n",
        "        flag=0\n",
        "        #\n",
        "        videoindex_to_read=idx\n",
        "        video_to_read=self.root_dir+self.markup[videoindex_to_read]\n",
        "        print(video_to_read)\n",
        "        capture = cv2.VideoCapture(video_to_read)  # open the video using OpenCV\n",
        "        #print(capture)\n",
        "        no_of_frame=int(capture.get(cv2.CAP_PROP_FRAME_COUNT))\n",
        "        print(\"No of frames from the video\",no_of_frame )\n",
        "       \n",
        "        start=0 \n",
        "        end=1300 #specify number of frames to read from the video\n",
        "      \n",
        "        print(\"start:\",start,\" End:\",end)\n",
        "        frame = start  # keep track of which frame we are up to, starting from start\n",
        "        saved_count = 0  # a count of how many frames we have saved\n",
        "        framecount=0 # this will keep track of the depth of each image\n",
        "        capture.set(1, start)  # set the starting frame of the capture\n",
        "        while frame < end:\n",
        "\n",
        "            _, image = capture.read()\n",
        "            image=Image.fromarray((image).astype(np.uint8))\n",
        "            image=self.transform(image)  \n",
        "            \n",
        "            if(flag==0):\n",
        "            \n",
        "                flag=1;\n",
        "                datapoint=image\n",
        "            else:\n",
        "           \n",
        "            \n",
        "                datapoint=np.concatenate([datapoint,image],axis=0) #stack frames in Z-axis\n",
        "\n",
        "            frame=frame+1\n",
        "          \n",
        "        \n",
        "        \n",
        "        dp_Tensor=torch.Tensor(datapoint)\n",
        "        \n",
        "        #print(\"The output is below\")\n",
        "        print(datapoint.shape)\n",
        "        dp_Tensor=torch.Tensor(datapoint)\n",
        "        sample = (dp_Tensor, self.labels[videoindex_to_read])\n",
        "         \n",
        "        return sample\n"
      ]
    },
    {
      "cell_type": "code",
      "execution_count": 21,
      "id": "f91ae081",
      "metadata": {
        "id": "f91ae081"
      },
      "outputs": [],
      "source": [
        "epoch_dict={}\n",
        "import time\n",
        "from time import ctime\n",
        "import copy\n",
        "def regress_train_model(model, criterion, optimizer, scheduler, num_epochs=40):\n",
        "    since = time.time()\n",
        "    start_time = ctime()\n",
        "\n",
        "    for epoch in range(num_epochs):\n",
        "        print('Epoch {}/{}'.format(epoch, num_epochs - 1))\n",
        "        print('-' * 10)\n",
        "\n",
        "        epoch_since = time.time()\n",
        "        model.train()  # Set model to training mode\n",
        "        running_loss = 0.0            # Iterate over data.\n",
        "        for inputs, labels in data_loader:\n",
        "          inputs = inputs.to(device)\n",
        "          labels = labels.to(device)\n",
        "\n",
        "         # zero the parameter gradients\n",
        "          optimizer.zero_grad()\n",
        "          with torch.set_grad_enabled(True):\n",
        "            #print(\":::::::::::::::::::Train:::::::::::::::::\")\n",
        "            outputs = model(inputs)\n",
        "            loss = criterion(outputs.float(), labels.float())\n",
        "            loss.backward()\n",
        "            optimizer.step()               \n",
        "            # statistics\n",
        "            # print('{} loss item {:.4f} input size : {:d}', loss.item(), inputs.size(0))\n",
        "          running_loss += loss.item() * inputs.size(0) \n",
        "        scheduler.step()\n",
        "\n",
        "        epoch_loss = running_loss / len(data_loader.dataset)\n",
        "        epoch_acc = 1 - epoch_loss\n",
        "\n",
        "        print(' Loss: {:.4f} Acc: {:.4f}'.format(\n",
        "                 epoch_loss, epoch_acc))\n",
        "        epoch_dict[epoch]=epoch_loss\n",
        "\n",
        "            # deep copy the model\n",
        "        best_model_wts = copy.deepcopy(model.state_dict())\n",
        "        torch.save(best_model_wts, os.path.join(MODELPATH, MODELNAME+str(epoch) + '.pth'))\n",
        "\n",
        "\n",
        "        epoch_time_elapsed = time.time() - epoch_since\n",
        "        print('Current epoch completed in {:.0f}m {:.0f}s'.format(\n",
        "            epoch_time_elapsed // 60, epoch_time_elapsed % 60))\n",
        "\n",
        "    time_elapsed = time.time() - since\n",
        "    print('Training complete in {:.0f}m {:.0f}s'.format(\n",
        "        time_elapsed // 60, time_elapsed % 60))\n",
        "    print('Best val Acc: {:4f}'.format(best_acc))\n",
        "\n",
        "    print(epoch_dict)\n",
        "    return model\n"
      ]
    },
    {
      "cell_type": "code",
      "execution_count": 22,
      "id": "c67c072f",
      "metadata": {
        "colab": {
          "base_uri": "https://localhost:8080/",
          "height": 70
        },
        "id": "c67c072f",
        "outputId": "d37eec4a-a83c-44af-d536-917df94e7639"
      },
      "outputs": [
        {
          "name": "stdout",
          "output_type": "stream",
          "text": [
            "Length of dataset  120\n",
            "cuda:0\n"
          ]
        },
        {
          "data": {
            "application/vnd.google.colaboratory.intrinsic+json": {
              "type": "string"
            },
            "text/plain": [
              "'inputs, curve_params = next(iter(data_loader))\\nprint(curve_params)\\nprint(inputs.shape)'"
            ]
          },
          "execution_count": 22,
          "metadata": {},
          "output_type": "execute_result"
        }
      ],
      "source": [
        "dataset = StackedFramesDataset(csv_file=TrainPATH,\n",
        "                                    root_dir=VIDEOPATH,transform=regress_data_transforms['train'])\n",
        "device = torch.device('cuda:0' if torch.cuda.is_available() else 'cpu')\n",
        "print(device)\n",
        "data_loader = DataLoader(dataset,\n",
        "                  batch_size=1)\n",
        "net = models.resnet18(pretrained=False)\n",
        "net = net.cuda() if device else net\n",
        "net.conv1=nn.Conv2d(CNVSIZE, 64, kernel_size=7, stride=2, padding=3, bias=False) #update the first layer\n",
        "'''inputs, curve_params = next(iter(data_loader))\n",
        "print(curve_params)\n",
        "print(inputs.shape)'''\n"
      ]
    },
    {
      "cell_type": "code",
      "execution_count": null,
      "id": "7d832729",
      "metadata": {
        "colab": {
          "base_uri": "https://localhost:8080/"
        },
        "id": "7d832729",
        "outputId": "4a2a0e1c-72a6-42bc-90d6-b0eb0a9af0d5",
        "scrolled": false
      },
      "outputs": [
        {
          "name": "stdout",
          "output_type": "stream",
          "text": [
            "512\n",
            "Epoch 0/49\n",
            "----------\n",
            "videoindex_to_read:   0\n",
            "2245-hareemfatima-june18.mp4\n",
            "/content/drive/MyDrive/pathwell/PATHWELLDATA/Pathwell-Data-Orignal/2245-hareemfatima-june18.mp4\n",
            "No of frames from the video 1898\n",
            "start: 0  End: 1300\n",
            "(3900, 224, 224)\n",
            "videoindex_to_read:   1\n",
            "1922-azanmqsood-1-june11.mp4\n",
            "/content/drive/MyDrive/pathwell/PATHWELLDATA/Pathwell-Data-Orignal/1922-azanmqsood-1-june11.mp4\n",
            "No of frames from the video 1893\n",
            "start: 0  End: 1300\n",
            "(3900, 224, 224)\n",
            "videoindex_to_read:   2\n",
            "2186-shafia-2.mp4\n",
            "/content/drive/MyDrive/pathwell/PATHWELLDATA/Pathwell-Data-Orignal/2186-shafia-2.mp4\n",
            "No of frames from the video 1898\n",
            "start: 0  End: 1300\n",
            "(3900, 224, 224)\n",
            "videoindex_to_read:   3\n",
            "1826-jumakhan-1-june9.mp4\n",
            "/content/drive/MyDrive/pathwell/PATHWELLDATA/Pathwell-Data-Orignal/1826-jumakhan-1-june9.mp4\n",
            "No of frames from the video 1872\n",
            "start: 0  End: 1300\n"
          ]
        }
      ],
      "source": [
        "#########################################################################################################################\n",
        "#########################################################################################################################\n",
        "# Put it all together\n",
        "#########################################################################################################################\n",
        "#########################################################################################################################\n",
        "num_ftrs = net.fc.in_features\n",
        "print(num_ftrs)\n",
        "\n",
        "net.fc = nn.Linear(num_ftrs, 1)\n",
        "net = net.to(device)\n",
        "model_name = os.path.join('Model', \"mymodal\" + '.pth')\n",
        "criterion = nn.MSELoss()\n",
        "# Observe that all parameters are being optimized\n",
        "optimizer_ft = optim.SGD(net.parameters(), lr=0.001, momentum=0.9)\n",
        "# Decay LR by a factor of 0.1 every 7 epochs\n",
        "exp_lr_scheduler = lr_scheduler.StepLR(optimizer_ft, step_size=7, gamma=0.1)\n",
        "net = regress_train_model(net, criterion, optimizer_ft, exp_lr_scheduler, num_epochs=50)\n"
      ]
    },
    {
      "cell_type": "code",
      "execution_count": null,
      "id": "db64fe26",
      "metadata": {
        "id": "db64fe26"
      },
      "outputs": [],
      "source": [
        "\n",
        "\n",
        "'''\n",
        "#########################################################################################################################\n",
        "#########################################################################################################################\n",
        "# Test Phase\n",
        "#########################################################################################################################\n",
        "#########################################################################################################################\n",
        "'''\n",
        "\n",
        "\n",
        "def test(model):\n",
        "    print(model)\n",
        "    model.eval()\n",
        "    use_gpu = False\n",
        "    dataset = StackedFramesDataset(csv_file='/home/humera/markup-females-test.csv',\n",
        "                                   root_dir='/home/humera/videos/',\n",
        "                                   transform=regress_data_transforms['train'])\n",
        "    device = torch.device('cuda:0' if torch.cuda.is_available() else 'cpu')\n",
        "    print(\"In test the device is:\", device)\n",
        "    test_data_loader = DataLoader(dataset,\n",
        "                                  batch_size=1,\n",
        "                                  num_workers=1)\n",
        "    for data in test_data_loader:\n",
        "        # get the inputs\n",
        "        inputs, labels = data\n",
        "\n",
        "        # wrap them in Variable\n",
        "        inputs = inputs.to(device)\n",
        "        labels = labels.to(device)\n",
        "\n",
        "        # zero the parameter gradients\n",
        "        # optimizer.zero_grad()\n",
        "\n",
        "        # forward\n",
        "        outputs = model(inputs)\n",
        "        _, preds = torch.max(outputs.data, 1)\n",
        "\n",
        "        print(\"________________________ Test Output__________________________\")\n",
        "        print(\"Actual Labels: \", labels )\n",
        "        print(\"Prediction Output\",outputs)\n",
        "        print(\"__________________________________________________\")\n",
        "\n"
      ]
    },
    {
      "cell_type": "code",
      "execution_count": null,
      "id": "0982c6d5",
      "metadata": {
        "id": "0982c6d5"
      },
      "outputs": [],
      "source": [
        "test(net)"
      ]
    },
    {
      "cell_type": "code",
      "execution_count": null,
      "id": "ae7dc51a",
      "metadata": {
        "id": "ae7dc51a",
        "outputId": "a96bd7f8-8b05-4719-cc19-6b1aa5d49c27"
      },
      "outputs": [
        {
          "name": "stdout",
          "output_type": "stream",
          "text": [
            "dict_keys([0, 1, 2, 3, 4, 5, 6, 7, 8, 9, 10, 11, 12, 13, 14, 15, 16, 17, 18, 19, 20, 21, 22, 23, 24, 25, 26, 27, 28, 29, 30, 31, 32, 33, 34, 35, 36, 37, 38, 39, 40, 41, 42, 43, 44, 45, 46, 47, 48, 49, 50, 51, 52, 53, 54, 55, 56, 57, 58, 59, 60, 61, 62, 63, 64, 65, 66, 67, 68, 69, 70, 71, 72, 73, 74, 75, 76, 77, 78, 79, 80, 81, 82, 83, 84, 85, 86, 87, 88, 89, 90, 91, 92, 93, 94, 95, 96, 97, 98, 99])\n",
            "dict_values([21.810815417426912, 5.2542299252989535, 5.006088390679317, 4.663215284126208, 4.6153725842013955, 4.47298484985881, 4.303402314181714, 3.776258765993749, 3.746988451217904, 3.739688528153826, 3.7308061735375837, 3.7227238016750883, 3.714580391698024, 3.7062709662405884, 3.6753155223148712, 3.5810883485657325, 3.5737637695582474, 3.5725822332589066, 3.5716211438617287, 3.5709064927171257, 3.569950125454103, 3.5596532076597214, 3.559588561382364, 3.5594840089187905, 3.5593656923841026, 3.5592579241184628, 3.559122079873786, 3.559027764507953, 3.5580222402863644, 3.558018160655218, 3.5580228740239845, 3.558000621769358, 3.557981078677318, 3.5579974149518154, 3.557995565673884, 3.557926693383385, 3.5579313997398403, 3.5579447395661297, 3.5579329450779102, 3.5579070345882107, 3.5579299394260433, 3.5579294720116783, 3.557912706013988, 3.5579161825863754, 3.55791431270978, 3.5579079523244324, 3.5579092929906704, 3.557905334102757, 3.5579172164640007, 3.5579179091488613, 3.557919265373665, 3.5579201197799515, 3.557921029846458, 3.557922280886594, 3.5579256051603485, 3.5579219072618904, 3.5579079183585502, 3.5579189607763992, 3.5579176832209614, 3.557921065565418, 3.557921065565418, 3.557921065565418, 3.557921065565418, 3.557921065565418, 3.557921065565418, 3.557921065565418, 3.557921065565418, 3.557921065565418, 3.557921065565418, 3.557921065565418, 3.557921065565418, 3.557921065565418, 3.557921065565418, 3.557921065565418, 3.557921065565418, 3.557921065565418, 3.557921065565418, 3.557921065565418, 3.557921065565418, 3.557921065565418, 3.557921065565418, 3.557921065565418, 3.557921065565418, 3.557921065565418, 3.557921065565418, 3.557921065565418, 3.557921065565418, 3.557921065565418, 3.557921065565418, 3.557921065565418, 3.557921065565418, 3.557921065565418, 3.557921065565418, 3.557921065565418, 3.557921065565418, 3.557921065565418, 3.557921065565418, 3.557921065565418, 3.557921065565418, 3.557921065565418])\n"
          ]
        }
      ],
      "source": [
        "\n",
        "x= epoch_dict.keys()\n",
        "y=epoch_dict.values()\n",
        "print(x)\n",
        "print(y)\n"
      ]
    },
    {
      "cell_type": "code",
      "execution_count": null,
      "id": "e975442f",
      "metadata": {
        "id": "e975442f",
        "outputId": "984abdcf-9fe6-43c2-9833-26a0a1e961cb"
      },
      "outputs": [
        {
          "data": {
            "image/png": "[encoded data removed]",
            "text/plain": [
              "<Figure size 1080x432 with 1 Axes>"
            ]
          },
          "metadata": {
            "needs_background": "light"
          },
          "output_type": "display_data"
        },
        {
          "data": {
            "text/plain": [
              "<Figure size 432x288 with 0 Axes>"
            ]
          },
          "metadata": {},
          "output_type": "display_data"
        }
      ],
      "source": [
        "import matplotlib.pyplot as plt\n",
        "plt.figure(figsize=(15,6))\n",
        "plt.plot(y, label=\"Model Loss\")\n",
        "plt.ylabel('Loss')\n",
        "plt.xlabel('Epoch ')\n",
        "plt.legend()\n",
        "plt.show()\n",
        "plt.savefig('out.png', format = 'png', dpi=120)"
      ]
    },
    {
      "cell_type": "code",
      "execution_count": null,
      "id": "fe16fe20",
      "metadata": {
        "id": "fe16fe20"
      },
      "outputs": [],
      "source": []
    }
  ],
  "metadata": {
    "accelerator": "GPU",
    "colab": {
      "provenance": []
    },
    "gpuClass": "standard",
    "kernelspec": {
      "display_name": "Python 3",
      "language": "python",
      "name": "python3"
    },
    "language_info": {
      "codemirror_mode": {
        "name": "ipython",
        "version": 3
      },
      "file_extension": ".py",
      "mimetype": "text/x-python",
      "name": "python",
      "nbconvert_exporter": "python",
      "pygments_lexer": "ipython3",
      "version": "3.6.12"
    }
  },
  "nbformat": 4,
  "nbformat_minor": 5
}
